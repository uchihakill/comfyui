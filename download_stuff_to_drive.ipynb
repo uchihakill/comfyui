{
  "nbformat": 4,
  "nbformat_minor": 0,
  "metadata": {
    "colab": {
      "provenance": [],
      "mount_file_id": "1lpZXTEFiCN5lDb5nzEgwN3m9xF_H23Ii",
      "authorship_tag": "ABX9TyPspZS8hqe9w6a8mDCucZ+O",
      "include_colab_link": true
    },
    "kernelspec": {
      "name": "python3",
      "display_name": "Python 3"
    },
    "language_info": {
      "name": "python"
    }
  },
  "cells": [
    {
      "cell_type": "markdown",
      "metadata": {
        "id": "view-in-github",
        "colab_type": "text"
      },
      "source": [
        "<a href=\"https://colab.research.google.com/github/uchihakill/comfyui/blob/main/download_stuff_to_drive.ipynb\" target=\"_parent\"><img src=\"https://colab.research.google.com/assets/colab-badge.svg\" alt=\"Open In Colab\"/></a>"
      ]
    },
    {
      "cell_type": "code",
      "execution_count": 11,
      "metadata": {
        "id": "jCV75Axy5w3_"
      },
      "outputs": [],
      "source": [
        "import requests\n",
        "\n",
        "# File URL\n",
        "file_url = \"https://huggingface.co/city96/FLUX.1-dev-gguf/resolve/main/flux1-dev-Q8_0.gguf?download=true\"\n",
        "\n",
        "# Send a GET request to the URL\n",
        "r = requests.get(file_url, stream=True)\n",
        "\n",
        "# Make sure the request was successful\n",
        "if r.status_code == 200:\n",
        "    # Open the file in write-binary mode\n",
        "    with open(\"/content/drive/My Drive/flux1-dev-Q8_0.gguf\", \"wb\") as file:\n",
        "        # Write the content in chunks\n",
        "        for block in r.iter_content(chunk_size=1024):\n",
        "            if block:\n",
        "                file.write(block)\n",
        "else:\n",
        "    print(f\"Failed to download the file. Status code: {r.status_code}\")\n"
      ]
    }
  ]
}